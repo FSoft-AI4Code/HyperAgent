{
 "cells": [
  {
   "cell_type": "code",
   "execution_count": 1,
   "metadata": {},
   "outputs": [],
   "source": [
    "from repopilot import RepoPilot\n",
    "from bs4 import BeautifulSoup\n",
    "from markdownify import markdownify as md\n",
    "from repopilot.prompts.bug_reproduction import example_br"
   ]
  },
  {
   "cell_type": "markdown",
   "metadata": {},
   "source": [
    "We will define a template for bug reproduction task. "
   ]
  },
  {
   "cell_type": "code",
   "execution_count": null,
   "metadata": {},
   "outputs": [],
   "source": [
    "template = \"Provide a hypothetical JUnit test case based on the description of the bug report. (without looking at the test folder or avaiable test files) that reproduce the failure behavior of the given bug report as following: \\n```{bug_report}```\""
   ]
  },
  {
   "cell_type": "markdown",
   "metadata": {},
   "source": [
    "Your bug report json file should contain the following fields:"
   ]
  },
  {
   "cell_type": "code",
   "execution_count": null,
   "metadata": {},
   "outputs": [],
   "source": [
    "br = {\"issue_id\": \"CLI-13\", \"title\": \"[cli] CommandLine.getOptionValue() behaves contrary to docs\", \"description\": \"\\n<div class=\\\"user-content-block\\\">\\n<p>Hi</p>\\n<p>If I have:</p>\\n<p>final String debugOpt = \\\"debug\\\";<br/>\\n\\tOption debug = OptionBuilder<br/>\\n\\t    .withArgName(debugOpt)<br/>\\n\\t    .withDescription(\\\"turn on debugging\\\")<br/>\\n\\t    .withLongOpt(debugOpt)<br/>\\n\\t    .create('d');</p>\\n<p>and then later I do:</p>\\n<p>String dbg = commandLine.getOptionValue(debugOpt);</p>\\n<p>then dbg will be null. Instead, I have to use getOptionValue('d'). This seems<br/>\\ncontrary to the docs (see bottom of<br/>\\n<a class=\\\"external-link\\\" href=\\\"http://jakarta.apache.org/commons/cli/usage.html\\\" rel=\\\"nofollow noopener\\\" target=\\\"_blank\\\">http://jakarta.apache.org/commons/cli/usage.html</a>), which implies that I should<br/>\\nbe able to query the commandLine object using a full string, rather than just<br/>\\nthe string's first character.</p>\\n<p>Can I suggest that the API of OptionBuilder be made clearer so that it is<br/>\\nobvious that you can have long and short option names---perhaps make the<br/>\\ncreate() method take no arguments (thus forcing long and short arg names to be<br/>\\nset explicitly). (Also, there seems to be some confusion between the terms<br/>\\n'argument' and 'option' in the API, but perhaps that is just me).</p>\\n<p>Also, I would hop to be able to query commandLine by either a single char or an<br/>\\nentire string, as suggested by the docs.</p>\\n<p>Thanks,</p>\\n<p>Chris</p>\\n</div>\\n\"}"
   ]
  },
  {
   "cell_type": "code",
   "execution_count": null,
   "metadata": {},
   "outputs": [],
   "source": [
    "def make_input(rep_title, rep_content):\n",
    "    rep_title = BeautifulSoup(rep_title.strip(), 'html.parser').get_text()\n",
    "    rep_content = md(rep_content.strip())\n",
    "    bug_report_content = f\"# Bug title\\n{rep_title}\\n## Description\\n{rep_content}\"\n",
    "    return bug_report_content\n",
    "\n",
    "def load_bug_report():\n",
    "    return make_input(br['title'], br['description'])\n",
    "    \n",
    "def query_repopilot_for_gentest(pilot, br):\n",
    "    print(template.format(bug_report=br))\n",
    "    output = pilot.query_codebase(template.format(bug_report=br))\n",
    "    return output "
   ]
  },
  {
   "cell_type": "markdown",
   "metadata": {},
   "source": [
    "Please change the api_key to your own openai_api_key."
   ]
  },
  {
   "cell_type": "code",
   "execution_count": null,
   "metadata": {},
   "outputs": [],
   "source": [
    "api_key = \"YOUR_API_KEY\"\n",
    "commit = \"\"\n",
    "project = br[\"issue_id\"].split(\"-\")[0]\n",
    "bug_id = br[\"issue_id\"].split(\"-\")[1]\n",
    "repo = f\"Defects4J/repos/{project}_{bug_id}\""
   ]
  },
  {
   "cell_type": "code",
   "execution_count": null,
   "metadata": {},
   "outputs": [],
   "source": [
    "pilot = RepoPilot(repo, \n",
    "        commit=commit, \n",
    "        openai_api_key=api_key, \n",
    "        language=\"java\", \n",
    "        clone_dir=\"data/repos\", \n",
    "        examples=example_br)"
   ]
  },
  {
   "cell_type": "code",
   "execution_count": null,
   "metadata": {},
   "outputs": [],
   "source": [
    "output = query_repopilot_for_gentest(pilot, load_bug_report())"
   ]
  }
 ],
 "metadata": {
  "kernelspec": {
   "display_name": "knn-llm",
   "language": "python",
   "name": "python3"
  },
  "language_info": {
   "codemirror_mode": {
    "name": "ipython",
    "version": 3
   },
   "file_extension": ".py",
   "mimetype": "text/x-python",
   "name": "python",
   "nbconvert_exporter": "python",
   "pygments_lexer": "ipython3",
   "version": "3.10.12"
  }
 },
 "nbformat": 4,
 "nbformat_minor": 2
}
